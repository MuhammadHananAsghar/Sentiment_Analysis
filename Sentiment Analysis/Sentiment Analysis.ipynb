{
 "cells": [
  {
   "cell_type": "code",
   "execution_count": 3,
   "id": "9245002d-663c-417f-8a7b-fdf31116ecc6",
   "metadata": {},
   "outputs": [],
   "source": [
    "from textblob import TextBlob\n",
    "import pandas as pd\n",
    "import numpy as np"
   ]
  },
  {
   "cell_type": "code",
   "execution_count": 8,
   "id": "fd2c16a3-5fff-46d9-aae5-1d51de7ee680",
   "metadata": {},
   "outputs": [],
   "source": [
    "df = pd.read_csv(\"lemmatized.csv\", index_col=0)"
   ]
  },
  {
   "cell_type": "markdown",
   "id": "2ad24dc3-3e1b-45ec-b1fd-077d2948a53e",
   "metadata": {},
   "source": [
    "The polarity metric refers to the degree to which the text analysed is positive or negative, between a range of -1 to 1. A score of 1 means highly positive whereas -1 is considered well and truly negative."
   ]
  },
  {
   "cell_type": "code",
   "execution_count": 14,
   "id": "12823fd3-c66f-44fe-b4ae-87ae21b6efed",
   "metadata": {},
   "outputs": [],
   "source": [
    "df['polarity'] = df['lemmatized'].apply(lambda x: TextBlob(x).sentiment[0])"
   ]
  },
  {
   "cell_type": "code",
   "execution_count": 15,
   "id": "1dca40e3-0257-4185-bae7-1a8936913126",
   "metadata": {},
   "outputs": [
    {
     "data": {
      "text/html": [
       "<div>\n",
       "<style scoped>\n",
       "    .dataframe tbody tr th:only-of-type {\n",
       "        vertical-align: middle;\n",
       "    }\n",
       "\n",
       "    .dataframe tbody tr th {\n",
       "        vertical-align: top;\n",
       "    }\n",
       "\n",
       "    .dataframe thead th {\n",
       "        text-align: right;\n",
       "    }\n",
       "</style>\n",
       "<table border=\"1\" class=\"dataframe\">\n",
       "  <thead>\n",
       "    <tr style=\"text-align: right;\">\n",
       "      <th></th>\n",
       "      <th>lemmatized</th>\n",
       "      <th>polarity</th>\n",
       "    </tr>\n",
       "  </thead>\n",
       "  <tbody>\n",
       "    <tr>\n",
       "      <th>0</th>\n",
       "      <td>consider tesla model mine fun brings joy conte...</td>\n",
       "      <td>0.400000</td>\n",
       "    </tr>\n",
       "    <tr>\n",
       "      <th>1</th>\n",
       "      <td>experience tesla nothing short complete disast...</td>\n",
       "      <td>0.093529</td>\n",
       "    </tr>\n",
       "    <tr>\n",
       "      <th>2</th>\n",
       "      <td>amazing experience service center went beyond ...</td>\n",
       "      <td>0.213542</td>\n",
       "    </tr>\n",
       "    <tr>\n",
       "      <th>3</th>\n",
       "      <td>kevin bridget amazing purchased used tesla ab ...</td>\n",
       "      <td>0.044318</td>\n",
       "    </tr>\n",
       "    <tr>\n",
       "      <th>4</th>\n",
       "      <td>love car held hostage thing arent fault locati...</td>\n",
       "      <td>-0.066667</td>\n",
       "    </tr>\n",
       "    <tr>\n",
       "      <th>5</th>\n",
       "      <td>appalled poor service tesla location first can...</td>\n",
       "      <td>-0.039773</td>\n",
       "    </tr>\n",
       "    <tr>\n",
       "      <th>6</th>\n",
       "      <td>dear dad buy tesla drive grad school</td>\n",
       "      <td>0.000000</td>\n",
       "    </tr>\n",
       "    <tr>\n",
       "      <th>7</th>\n",
       "      <td>impossible time service center sold something ...</td>\n",
       "      <td>-0.166667</td>\n",
       "    </tr>\n",
       "    <tr>\n",
       "      <th>8</th>\n",
       "      <td>ended filing complaint california bureau autom...</td>\n",
       "      <td>-0.054545</td>\n",
       "    </tr>\n",
       "    <tr>\n",
       "      <th>9</th>\n",
       "      <td>typically tesla berkeley service center needed...</td>\n",
       "      <td>0.097917</td>\n",
       "    </tr>\n",
       "  </tbody>\n",
       "</table>\n",
       "</div>"
      ],
      "text/plain": [
       "                                          lemmatized  polarity\n",
       "0  consider tesla model mine fun brings joy conte...  0.400000\n",
       "1  experience tesla nothing short complete disast...  0.093529\n",
       "2  amazing experience service center went beyond ...  0.213542\n",
       "3  kevin bridget amazing purchased used tesla ab ...  0.044318\n",
       "4  love car held hostage thing arent fault locati... -0.066667\n",
       "5  appalled poor service tesla location first can... -0.039773\n",
       "6               dear dad buy tesla drive grad school  0.000000\n",
       "7  impossible time service center sold something ... -0.166667\n",
       "8  ended filing complaint california bureau autom... -0.054545\n",
       "9  typically tesla berkeley service center needed...  0.097917"
      ]
     },
     "execution_count": 15,
     "metadata": {},
     "output_type": "execute_result"
    }
   ],
   "source": [
    "df[['lemmatized', 'polarity']]"
   ]
  },
  {
   "cell_type": "code",
   "execution_count": 16,
   "id": "05f14d32-83ab-40cc-90ec-f7738d78ece5",
   "metadata": {},
   "outputs": [],
   "source": [
    "df['subjectivity'] = df['lemmatized'].apply(lambda x: TextBlob(x).sentiment[1])"
   ]
  },
  {
   "cell_type": "code",
   "execution_count": 19,
   "id": "40149361-acf6-4c7f-8d25-5c3c5f9b4472",
   "metadata": {},
   "outputs": [
    {
     "data": {
      "text/html": [
       "<div>\n",
       "<style scoped>\n",
       "    .dataframe tbody tr th:only-of-type {\n",
       "        vertical-align: middle;\n",
       "    }\n",
       "\n",
       "    .dataframe tbody tr th {\n",
       "        vertical-align: top;\n",
       "    }\n",
       "\n",
       "    .dataframe thead th {\n",
       "        text-align: right;\n",
       "    }\n",
       "</style>\n",
       "<table border=\"1\" class=\"dataframe\">\n",
       "  <thead>\n",
       "    <tr style=\"text-align: right;\">\n",
       "      <th></th>\n",
       "      <th>lemmatized</th>\n",
       "      <th>polarity</th>\n",
       "      <th>subjectivity</th>\n",
       "    </tr>\n",
       "  </thead>\n",
       "  <tbody>\n",
       "    <tr>\n",
       "      <th>0</th>\n",
       "      <td>consider tesla model mine fun brings joy conte...</td>\n",
       "      <td>0.400000</td>\n",
       "      <td>0.375000</td>\n",
       "    </tr>\n",
       "    <tr>\n",
       "      <th>1</th>\n",
       "      <td>experience tesla nothing short complete disast...</td>\n",
       "      <td>0.093529</td>\n",
       "      <td>0.521601</td>\n",
       "    </tr>\n",
       "    <tr>\n",
       "      <th>2</th>\n",
       "      <td>amazing experience service center went beyond ...</td>\n",
       "      <td>0.213542</td>\n",
       "      <td>0.458333</td>\n",
       "    </tr>\n",
       "    <tr>\n",
       "      <th>3</th>\n",
       "      <td>kevin bridget amazing purchased used tesla ab ...</td>\n",
       "      <td>0.044318</td>\n",
       "      <td>0.493750</td>\n",
       "    </tr>\n",
       "    <tr>\n",
       "      <th>4</th>\n",
       "      <td>love car held hostage thing arent fault locati...</td>\n",
       "      <td>-0.066667</td>\n",
       "      <td>0.566667</td>\n",
       "    </tr>\n",
       "    <tr>\n",
       "      <th>5</th>\n",
       "      <td>appalled poor service tesla location first can...</td>\n",
       "      <td>-0.039773</td>\n",
       "      <td>0.462085</td>\n",
       "    </tr>\n",
       "    <tr>\n",
       "      <th>6</th>\n",
       "      <td>dear dad buy tesla drive grad school</td>\n",
       "      <td>0.000000</td>\n",
       "      <td>0.000000</td>\n",
       "    </tr>\n",
       "    <tr>\n",
       "      <th>7</th>\n",
       "      <td>impossible time service center sold something ...</td>\n",
       "      <td>-0.166667</td>\n",
       "      <td>0.525000</td>\n",
       "    </tr>\n",
       "    <tr>\n",
       "      <th>8</th>\n",
       "      <td>ended filing complaint california bureau autom...</td>\n",
       "      <td>-0.054545</td>\n",
       "      <td>0.251515</td>\n",
       "    </tr>\n",
       "    <tr>\n",
       "      <th>9</th>\n",
       "      <td>typically tesla berkeley service center needed...</td>\n",
       "      <td>0.097917</td>\n",
       "      <td>0.418750</td>\n",
       "    </tr>\n",
       "  </tbody>\n",
       "</table>\n",
       "</div>"
      ],
      "text/plain": [
       "                                          lemmatized  polarity  subjectivity\n",
       "0  consider tesla model mine fun brings joy conte...  0.400000      0.375000\n",
       "1  experience tesla nothing short complete disast...  0.093529      0.521601\n",
       "2  amazing experience service center went beyond ...  0.213542      0.458333\n",
       "3  kevin bridget amazing purchased used tesla ab ...  0.044318      0.493750\n",
       "4  love car held hostage thing arent fault locati... -0.066667      0.566667\n",
       "5  appalled poor service tesla location first can... -0.039773      0.462085\n",
       "6               dear dad buy tesla drive grad school  0.000000      0.000000\n",
       "7  impossible time service center sold something ... -0.166667      0.525000\n",
       "8  ended filing complaint california bureau autom... -0.054545      0.251515\n",
       "9  typically tesla berkeley service center needed...  0.097917      0.418750"
      ]
     },
     "execution_count": 19,
     "metadata": {},
     "output_type": "execute_result"
    }
   ],
   "source": [
    "df[['lemmatized', 'polarity', 'subjectivity']]"
   ]
  },
  {
   "cell_type": "code",
   "execution_count": 23,
   "id": "ab700981-7d4d-4c15-9bda-ff56af53f76c",
   "metadata": {},
   "outputs": [],
   "source": [
    "df.drop(['reviews_lower', 'rmv_punc', 'rmv_punc_stp'], axis=1, inplace=True)"
   ]
  },
  {
   "cell_type": "code",
   "execution_count": 26,
   "id": "729c53f1-caf7-48c2-ad52-a8c926bd11c4",
   "metadata": {},
   "outputs": [],
   "source": [
    "df['stop_words_rate'] = df['stop_words'] / df['word_count']"
   ]
  },
  {
   "cell_type": "code",
   "execution_count": 29,
   "id": "588e725b-6419-4e6e-a09a-79f5b63e4c25",
   "metadata": {},
   "outputs": [],
   "source": [
    "df['cleaned_words_count'] = df['cleaned'].apply(lambda x: len(x.split()))"
   ]
  },
  {
   "cell_type": "code",
   "execution_count": 32,
   "id": "f554d80c-87dd-417a-a5b2-d3b3bd3b11a1",
   "metadata": {},
   "outputs": [],
   "source": [
    "df['cleaned_rate'] = df['cleaned_words_count'] / df['word_count']"
   ]
  },
  {
   "cell_type": "code",
   "execution_count": 34,
   "id": "1c2a5a58-23bf-4f3a-8e01-b945159bfba4",
   "metadata": {},
   "outputs": [],
   "source": [
    "df.drop(['cleaned', 'lemmatized'], axis=1, inplace=True)"
   ]
  },
  {
   "cell_type": "code",
   "execution_count": 38,
   "id": "7285cfe9-c213-40a6-9dcf-75b5a2388fd2",
   "metadata": {},
   "outputs": [],
   "source": [
    "df.sort_values(by='polarity', ascending=False, inplace=True)"
   ]
  },
  {
   "cell_type": "code",
   "execution_count": 41,
   "id": "eb4e2598-7717-43fd-a076-1a6aaf4935e2",
   "metadata": {},
   "outputs": [],
   "source": [
    "df.to_csv(\"cleaned.csv\")"
   ]
  },
  {
   "cell_type": "markdown",
   "id": "f954182e-e8ad-4cd2-b8cc-3f7adb92dca4",
   "metadata": {},
   "source": [
    "### Implemented By Muhammad Hanan Asghar"
   ]
  }
 ],
 "metadata": {
  "kernelspec": {
   "display_name": "Python 3 (ipykernel)",
   "language": "python",
   "name": "python3"
  },
  "language_info": {
   "codemirror_mode": {
    "name": "ipython",
    "version": 3
   },
   "file_extension": ".py",
   "mimetype": "text/x-python",
   "name": "python",
   "nbconvert_exporter": "python",
   "pygments_lexer": "ipython3",
   "version": "3.9.5"
  }
 },
 "nbformat": 4,
 "nbformat_minor": 5
}
