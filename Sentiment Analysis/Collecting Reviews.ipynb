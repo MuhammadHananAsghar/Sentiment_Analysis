{
 "cells": [
  {
   "cell_type": "code",
   "execution_count": 1,
   "id": "38575727-a929-47bc-bec6-2c1834985f9d",
   "metadata": {},
   "outputs": [
    {
     "name": "stdout",
     "output_type": "stream",
     "text": [
      "Requirement already satisfied: requests in /home/sultan/miniconda3/lib/python3.9/site-packages (2.25.1)\n",
      "Requirement already satisfied: chardet<5,>=3.0.2 in /home/sultan/miniconda3/lib/python3.9/site-packages (from requests) (3.0.4)\n",
      "Requirement already satisfied: certifi>=2017.4.17 in /home/sultan/miniconda3/lib/python3.9/site-packages (from requests) (2021.10.8)\n",
      "Requirement already satisfied: urllib3<1.27,>=1.21.1 in /home/sultan/miniconda3/lib/python3.9/site-packages (from requests) (1.26.6)\n",
      "Requirement already satisfied: idna<3,>=2.5 in /home/sultan/miniconda3/lib/python3.9/site-packages (from requests) (2.10)\n",
      "Requirement already satisfied: bs4 in /home/sultan/miniconda3/lib/python3.9/site-packages (0.0.1)\n",
      "Requirement already satisfied: beautifulsoup4 in /home/sultan/miniconda3/lib/python3.9/site-packages (from bs4) (4.10.0)\n",
      "Requirement already satisfied: soupsieve>1.2 in /home/sultan/miniconda3/lib/python3.9/site-packages (from beautifulsoup4->bs4) (2.3.1)\n"
     ]
    }
   ],
   "source": [
    "!pip install requests\n",
    "!pip install bs4"
   ]
  },
  {
   "cell_type": "code",
   "execution_count": 2,
   "id": "9091222f-90cc-40b1-b871-7088af967b3e",
   "metadata": {},
   "outputs": [],
   "source": [
    "import requests\n",
    "from bs4 import BeautifulSoup"
   ]
  },
  {
   "cell_type": "code",
   "execution_count": 3,
   "id": "9650e0b7-48ec-4c90-97bd-4271a757b2c7",
   "metadata": {},
   "outputs": [],
   "source": [
    "url = \"https://www.yelp.com/biz/tesla-san-francisco?osq=Tesla+Dealership\"\n",
    "resp = requests.get(url).content"
   ]
  },
  {
   "cell_type": "code",
   "execution_count": 5,
   "id": "7a0b732c-15e5-40bf-a932-66a76b4fecfd",
   "metadata": {},
   "outputs": [],
   "source": [
    "soup = BeautifulSoup(resp, \"html.parser\")"
   ]
  },
  {
   "cell_type": "code",
   "execution_count": 12,
   "id": "507dc255-52fb-4bfc-8667-15e6cf557863",
   "metadata": {},
   "outputs": [],
   "source": [
    "reviews = [r.find(\"p\").text for r in soup.find_all(\"li\", class_=\"margin-b5__09f24__pTvws\")]"
   ]
  },
  {
   "cell_type": "code",
   "execution_count": 15,
   "id": "29f0e950-8076-4bdc-83ac-2df716f63c12",
   "metadata": {},
   "outputs": [],
   "source": [
    "import pickle\n",
    "\n",
    "file = open(\"reviews.pkl\", \"wb\")\n",
    "pickle.dump(reviews, file)"
   ]
  },
  {
   "cell_type": "code",
   "execution_count": null,
   "id": "853a5805-99b3-418d-8e28-6f03446945fa",
   "metadata": {},
   "outputs": [],
   "source": []
  }
 ],
 "metadata": {
  "kernelspec": {
   "display_name": "Python 3 (ipykernel)",
   "language": "python",
   "name": "python3"
  },
  "language_info": {
   "codemirror_mode": {
    "name": "ipython",
    "version": 3
   },
   "file_extension": ".py",
   "mimetype": "text/x-python",
   "name": "python",
   "nbconvert_exporter": "python",
   "pygments_lexer": "ipython3",
   "version": "3.9.5"
  }
 },
 "nbformat": 4,
 "nbformat_minor": 5
}
